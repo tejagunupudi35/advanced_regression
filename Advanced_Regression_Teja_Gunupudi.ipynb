{
 "cells": [
  {
   "cell_type": "code",
   "execution_count": 49,
   "id": "3037b3e3",
   "metadata": {},
   "outputs": [
    {
     "data": {
      "text/html": [
       "<div>\n",
       "<style scoped>\n",
       "    .dataframe tbody tr th:only-of-type {\n",
       "        vertical-align: middle;\n",
       "    }\n",
       "\n",
       "    .dataframe tbody tr th {\n",
       "        vertical-align: top;\n",
       "    }\n",
       "\n",
       "    .dataframe thead th {\n",
       "        text-align: right;\n",
       "    }\n",
       "</style>\n",
       "<table border=\"1\" class=\"dataframe\">\n",
       "  <thead>\n",
       "    <tr style=\"text-align: right;\">\n",
       "      <th></th>\n",
       "      <th>Id</th>\n",
       "      <th>MSSubClass</th>\n",
       "      <th>MSZoning</th>\n",
       "      <th>LotFrontage</th>\n",
       "      <th>LotArea</th>\n",
       "      <th>Street</th>\n",
       "      <th>Alley</th>\n",
       "      <th>LotShape</th>\n",
       "      <th>LandContour</th>\n",
       "      <th>Utilities</th>\n",
       "      <th>...</th>\n",
       "      <th>PoolArea</th>\n",
       "      <th>PoolQC</th>\n",
       "      <th>Fence</th>\n",
       "      <th>MiscFeature</th>\n",
       "      <th>MiscVal</th>\n",
       "      <th>MoSold</th>\n",
       "      <th>YrSold</th>\n",
       "      <th>SaleType</th>\n",
       "      <th>SaleCondition</th>\n",
       "      <th>SalePrice</th>\n",
       "    </tr>\n",
       "  </thead>\n",
       "  <tbody>\n",
       "    <tr>\n",
       "      <th>0</th>\n",
       "      <td>1</td>\n",
       "      <td>60</td>\n",
       "      <td>RL</td>\n",
       "      <td>65.0</td>\n",
       "      <td>8450</td>\n",
       "      <td>Pave</td>\n",
       "      <td>NaN</td>\n",
       "      <td>Reg</td>\n",
       "      <td>Lvl</td>\n",
       "      <td>AllPub</td>\n",
       "      <td>...</td>\n",
       "      <td>0</td>\n",
       "      <td>NaN</td>\n",
       "      <td>NaN</td>\n",
       "      <td>NaN</td>\n",
       "      <td>0</td>\n",
       "      <td>2</td>\n",
       "      <td>2008</td>\n",
       "      <td>WD</td>\n",
       "      <td>Normal</td>\n",
       "      <td>208500</td>\n",
       "    </tr>\n",
       "    <tr>\n",
       "      <th>1</th>\n",
       "      <td>2</td>\n",
       "      <td>20</td>\n",
       "      <td>RL</td>\n",
       "      <td>80.0</td>\n",
       "      <td>9600</td>\n",
       "      <td>Pave</td>\n",
       "      <td>NaN</td>\n",
       "      <td>Reg</td>\n",
       "      <td>Lvl</td>\n",
       "      <td>AllPub</td>\n",
       "      <td>...</td>\n",
       "      <td>0</td>\n",
       "      <td>NaN</td>\n",
       "      <td>NaN</td>\n",
       "      <td>NaN</td>\n",
       "      <td>0</td>\n",
       "      <td>5</td>\n",
       "      <td>2007</td>\n",
       "      <td>WD</td>\n",
       "      <td>Normal</td>\n",
       "      <td>181500</td>\n",
       "    </tr>\n",
       "    <tr>\n",
       "      <th>2</th>\n",
       "      <td>3</td>\n",
       "      <td>60</td>\n",
       "      <td>RL</td>\n",
       "      <td>68.0</td>\n",
       "      <td>11250</td>\n",
       "      <td>Pave</td>\n",
       "      <td>NaN</td>\n",
       "      <td>IR1</td>\n",
       "      <td>Lvl</td>\n",
       "      <td>AllPub</td>\n",
       "      <td>...</td>\n",
       "      <td>0</td>\n",
       "      <td>NaN</td>\n",
       "      <td>NaN</td>\n",
       "      <td>NaN</td>\n",
       "      <td>0</td>\n",
       "      <td>9</td>\n",
       "      <td>2008</td>\n",
       "      <td>WD</td>\n",
       "      <td>Normal</td>\n",
       "      <td>223500</td>\n",
       "    </tr>\n",
       "    <tr>\n",
       "      <th>3</th>\n",
       "      <td>4</td>\n",
       "      <td>70</td>\n",
       "      <td>RL</td>\n",
       "      <td>60.0</td>\n",
       "      <td>9550</td>\n",
       "      <td>Pave</td>\n",
       "      <td>NaN</td>\n",
       "      <td>IR1</td>\n",
       "      <td>Lvl</td>\n",
       "      <td>AllPub</td>\n",
       "      <td>...</td>\n",
       "      <td>0</td>\n",
       "      <td>NaN</td>\n",
       "      <td>NaN</td>\n",
       "      <td>NaN</td>\n",
       "      <td>0</td>\n",
       "      <td>2</td>\n",
       "      <td>2006</td>\n",
       "      <td>WD</td>\n",
       "      <td>Abnorml</td>\n",
       "      <td>140000</td>\n",
       "    </tr>\n",
       "    <tr>\n",
       "      <th>4</th>\n",
       "      <td>5</td>\n",
       "      <td>60</td>\n",
       "      <td>RL</td>\n",
       "      <td>84.0</td>\n",
       "      <td>14260</td>\n",
       "      <td>Pave</td>\n",
       "      <td>NaN</td>\n",
       "      <td>IR1</td>\n",
       "      <td>Lvl</td>\n",
       "      <td>AllPub</td>\n",
       "      <td>...</td>\n",
       "      <td>0</td>\n",
       "      <td>NaN</td>\n",
       "      <td>NaN</td>\n",
       "      <td>NaN</td>\n",
       "      <td>0</td>\n",
       "      <td>12</td>\n",
       "      <td>2008</td>\n",
       "      <td>WD</td>\n",
       "      <td>Normal</td>\n",
       "      <td>250000</td>\n",
       "    </tr>\n",
       "  </tbody>\n",
       "</table>\n",
       "<p>5 rows × 81 columns</p>\n",
       "</div>"
      ],
      "text/plain": [
       "   Id  MSSubClass MSZoning  LotFrontage  LotArea Street Alley LotShape  \\\n",
       "0   1          60       RL         65.0     8450   Pave   NaN      Reg   \n",
       "1   2          20       RL         80.0     9600   Pave   NaN      Reg   \n",
       "2   3          60       RL         68.0    11250   Pave   NaN      IR1   \n",
       "3   4          70       RL         60.0     9550   Pave   NaN      IR1   \n",
       "4   5          60       RL         84.0    14260   Pave   NaN      IR1   \n",
       "\n",
       "  LandContour Utilities  ... PoolArea PoolQC Fence MiscFeature MiscVal MoSold  \\\n",
       "0         Lvl    AllPub  ...        0    NaN   NaN         NaN       0      2   \n",
       "1         Lvl    AllPub  ...        0    NaN   NaN         NaN       0      5   \n",
       "2         Lvl    AllPub  ...        0    NaN   NaN         NaN       0      9   \n",
       "3         Lvl    AllPub  ...        0    NaN   NaN         NaN       0      2   \n",
       "4         Lvl    AllPub  ...        0    NaN   NaN         NaN       0     12   \n",
       "\n",
       "  YrSold  SaleType  SaleCondition  SalePrice  \n",
       "0   2008        WD         Normal     208500  \n",
       "1   2007        WD         Normal     181500  \n",
       "2   2008        WD         Normal     223500  \n",
       "3   2006        WD        Abnorml     140000  \n",
       "4   2008        WD         Normal     250000  \n",
       "\n",
       "[5 rows x 81 columns]"
      ]
     },
     "execution_count": 49,
     "metadata": {},
     "output_type": "execute_result"
    }
   ],
   "source": [
    "# Importing necessary libraries for data manipulation and analysis\n",
    "import pandas as pd\n",
    "import numpy as np\n",
    "\n",
    "# Load the data from the provided CSV file\n",
    "file_path = 'train (1).csv'\n",
    "data = pd.read_csv(file_path)\n",
    "\n",
    "# Display the first few rows of the dataset to understand its structure\n",
    "data.head()\n"
   ]
  },
  {
   "cell_type": "markdown",
   "id": "ed7782ae",
   "metadata": {},
   "source": [
    "# EDA and Initial data cleaning"
   ]
  },
  {
   "cell_type": "code",
   "execution_count": 50,
   "id": "bef3ce0a",
   "metadata": {},
   "outputs": [
    {
     "data": {
      "image/png": "[encoded data removed]",
      "text/plain": [
       "<Figure size 720x432 with 1 Axes>"
      ]
     },
     "metadata": {},
     "output_type": "display_data"
    },
    {
     "name": "stdout",
     "output_type": "stream",
     "text": [
      "                Id   MSSubClass  LotFrontage        LotArea  OverallQual  \\\n",
      "count  1460.000000  1460.000000  1201.000000    1460.000000  1460.000000   \n",
      "mean    730.500000    56.897260    70.049958   10516.828082     6.099315   \n",
      "std     421.610009    42.300571    24.284752    9981.264932     1.382997   \n",
      "min       1.000000    20.000000    21.000000    1300.000000     1.000000   \n",
      "25%     365.750000    20.000000    59.000000    7553.500000     5.000000   \n",
      "50%     730.500000    50.000000    69.000000    9478.500000     6.000000   \n",
      "75%    1095.250000    70.000000    80.000000   11601.500000     7.000000   \n",
      "max    1460.000000   190.000000   313.000000  215245.000000    10.000000   \n",
      "\n",
      "       OverallCond    YearBuilt  YearRemodAdd   MasVnrArea   BsmtFinSF1  ...  \\\n",
      "count  1460.000000  1460.000000   1460.000000  1452.000000  1460.000000  ...   \n",
      "mean      5.575342  1971.267808   1984.865753   103.685262   443.639726  ...   \n",
      "std       1.112799    30.202904     20.645407   181.066207   456.098091  ...   \n",
      "min       1.000000  1872.000000   1950.000000     0.000000     0.000000  ...   \n",
      "25%       5.000000  1954.000000   1967.000000     0.000000     0.000000  ...   \n",
      "50%       5.000000  1973.000000   1994.000000     0.000000   383.500000  ...   \n",
      "75%       6.000000  2000.000000   2004.000000   166.000000   712.250000  ...   \n",
      "max       9.000000  2010.000000   2010.000000  1600.000000  5644.000000  ...   \n",
      "\n",
      "        WoodDeckSF  OpenPorchSF  EnclosedPorch    3SsnPorch  ScreenPorch  \\\n",
      "count  1460.000000  1460.000000    1460.000000  1460.000000  1460.000000   \n",
      "mean     94.244521    46.660274      21.954110     3.409589    15.060959   \n",
      "std     125.338794    66.256028      61.119149    29.317331    55.757415   \n",
      "min       0.000000     0.000000       0.000000     0.000000     0.000000   \n",
      "25%       0.000000     0.000000       0.000000     0.000000     0.000000   \n",
      "50%       0.000000    25.000000       0.000000     0.000000     0.000000   \n",
      "75%     168.000000    68.000000       0.000000     0.000000     0.000000   \n",
      "max     857.000000   547.000000     552.000000   508.000000   480.000000   \n",
      "\n",
      "          PoolArea       MiscVal       MoSold       YrSold      SalePrice  \n",
      "count  1460.000000   1460.000000  1460.000000  1460.000000    1460.000000  \n",
      "mean      2.758904     43.489041     6.321918  2007.815753  180921.195890  \n",
      "std      40.177307    496.123024     2.703626     1.328095   79442.502883  \n",
      "min       0.000000      0.000000     1.000000  2006.000000   34900.000000  \n",
      "25%       0.000000      0.000000     5.000000  2007.000000  129975.000000  \n",
      "50%       0.000000      0.000000     6.000000  2008.000000  163000.000000  \n",
      "75%       0.000000      0.000000     8.000000  2009.000000  214000.000000  \n",
      "max     738.000000  15500.000000    12.000000  2010.000000  755000.000000  \n",
      "\n",
      "[8 rows x 38 columns]\n",
      "PoolQC          1453\n",
      "MiscFeature     1406\n",
      "Alley           1369\n",
      "Fence           1179\n",
      "FireplaceQu      690\n",
      "LotFrontage      259\n",
      "GarageYrBlt       81\n",
      "GarageCond        81\n",
      "GarageType        81\n",
      "GarageFinish      81\n",
      "GarageQual        81\n",
      "BsmtFinType2      38\n",
      "BsmtExposure      38\n",
      "BsmtQual          37\n",
      "BsmtCond          37\n",
      "BsmtFinType1      37\n",
      "MasVnrArea         8\n",
      "MasVnrType         8\n",
      "Electrical         1\n",
      "Id                 0\n",
      "dtype: int64\n"
     ]
    }
   ],
   "source": [
    "# Importing necessary libraries for EDA and visualization\n",
    "import matplotlib.pyplot as plt\n",
    "import seaborn as sns\n",
    "\n",
    "# Setting aesthetics for plots\n",
    "sns.set(style=\"whitegrid\")\n",
    "\n",
    "# Summary statistics of the dataset\n",
    "summary = data.describe()\n",
    "\n",
    "# Checking for missing values\n",
    "missing_values = data.isnull().sum()\n",
    "\n",
    "# Plotting the distribution of SalePrice (target variable)\n",
    "plt.figure(figsize=(10,6))\n",
    "sns.histplot(data['SalePrice'], kde=True)\n",
    "plt.title('Distribution of Sale Prices')\n",
    "plt.xlabel('Sale Price')\n",
    "plt.ylabel('Frequency')\n",
    "plt.show()\n",
    "\n",
    "# Displaying summary statistics and top missing values\n",
    "print(summary)\n",
    "print(missing_values.sort_values(ascending=False).head(20))"
   ]
  },
  {
   "cell_type": "markdown",
   "id": "dd3aea07",
   "metadata": {},
   "source": [
    "# Data cleaning"
   ]
  },
  {
   "cell_type": "code",
   "execution_count": 51,
   "id": "ab78466a",
   "metadata": {},
   "outputs": [
    {
     "name": "stderr",
     "output_type": "stream",
     "text": [
      "C:\\Users\\tejag\\AppData\\Local\\Temp\\ipykernel_29156\\2396838067.py:22: FutureWarning: Automatic reindexing on DataFrame vs Series comparisons is deprecated and will raise ValueError in a future version. Do `left, right = left.align(right, axis=1, copy=False)` before e.g. `left == right`\n",
      "  data_cleaned = data_cleaned[~((data_cleaned < (Q1 - 1.5 * IQR)) |(data_cleaned > (Q3 + 1.5 * IQR))).any(axis=1)]\n"
     ]
    }
   ],
   "source": [
    "# Handle missing values\n",
    "# For simplicity, let's remove features with a high percentage of missing values and impute others\n",
    "high_missing = missing_values[missing_values > data.shape[0]*0.5].index\n",
    "data_cleaned = data.drop(high_missing, axis=1)\n",
    "\n",
    "# Imputing missing values for the rest with median/mode\n",
    "for column in data_cleaned.columns:\n",
    "    if data_cleaned[column].dtype == 'object':\n",
    "        data_cleaned[column].fillna(data_cleaned[column].mode()[0], inplace=True)\n",
    "    else:\n",
    "        data_cleaned[column].fillna(data_cleaned[column].median(), inplace=True)\n",
    "\n",
    "# Check for any remaining missing values\n",
    "missing_after_cleaning = data_cleaned.isnull().sum().max()\n",
    "\n",
    "# Treat Outliers (example using IQR)\n",
    "Q1 = data_cleaned.quantile(0.25)\n",
    "Q3 = data_cleaned.quantile(0.75)\n",
    "IQR = Q3 - Q1\n",
    "\n",
    "# Removing outliers\n",
    "data_cleaned = data_cleaned[~((data_cleaned < (Q1 - 1.5 * IQR)) |(data_cleaned > (Q3 + 1.5 * IQR))).any(axis=1)]\n"
   ]
  },
  {
   "cell_type": "markdown",
   "id": "a7607ba5",
   "metadata": {},
   "source": [
    "# Feature Engineering"
   ]
  },
  {
   "cell_type": "code",
   "execution_count": 52,
   "id": "da6d25a7",
   "metadata": {},
   "outputs": [],
   "source": [
    "# Encoding categorical variables using One-Hot Encoding\n",
    "data_encoded = pd.get_dummies(data_cleaned, drop_first=True)"
   ]
  },
  {
   "cell_type": "markdown",
   "id": "87cf019a",
   "metadata": {},
   "source": [
    "# Preparation for modelling"
   ]
  },
  {
   "cell_type": "code",
   "execution_count": 53,
   "id": "abd10037",
   "metadata": {},
   "outputs": [],
   "source": [
    "from sklearn.model_selection import train_test_split\n",
    "from sklearn.preprocessing import StandardScaler\n",
    "\n",
    "# Splitting the data into features and target variable\n",
    "X = data_encoded.drop('SalePrice', axis=1)\n",
    "y = data_encoded['SalePrice']\n",
    "\n",
    "# Splitting data into training and test sets\n",
    "X_train, X_test, y_train, y_test = train_test_split(X, y, test_size=0.2, random_state=42)\n",
    "\n",
    "# Standardizing the features (important for models like Ridge and Lasso)\n",
    "scaler = StandardScaler()\n",
    "X_train_scaled = scaler.fit_transform(X_train)\n",
    "X_test_scaled = scaler.transform(X_test)"
   ]
  },
  {
   "cell_type": "markdown",
   "id": "9a5bbdbf",
   "metadata": {},
   "source": [
    "# Model building"
   ]
  },
  {
   "cell_type": "markdown",
   "id": "df441b90",
   "metadata": {},
   "source": [
    "# Ridge regression"
   ]
  },
  {
   "cell_type": "code",
   "execution_count": 54,
   "id": "3824255e",
   "metadata": {},
   "outputs": [],
   "source": [
    "from sklearn.linear_model import Ridge, Lasso\n",
    "from sklearn.model_selection import GridSearchCV\n",
    "\n",
    "# Ridge regression model\n",
    "ridge = Ridge()\n",
    "\n",
    "# Parameters to search\n",
    "parameters = {'alpha': [1e-15, 1e-10, 1e-8, 1e-4, 1e-3, 1e-2, 1, 5, 10, 20]}\n",
    "\n",
    "# Using GridSearchCV to find the optimal alpha\n",
    "ridge_regressor = GridSearchCV(ridge, parameters, scoring='neg_mean_squared_error', cv=5)\n",
    "ridge_regressor.fit(X_train_scaled, y_train)\n",
    "\n",
    "# Best parameter and score\n",
    "ridge_best_params = ridge_regressor.best_params_\n",
    "ridge_best_score = ridge_regressor.best_score_"
   ]
  },
  {
   "cell_type": "markdown",
   "id": "1cc22acc",
   "metadata": {},
   "source": [
    "# Lasso regression"
   ]
  },
  {
   "cell_type": "code",
   "execution_count": 55,
   "id": "070d62b1",
   "metadata": {},
   "outputs": [
    {
     "name": "stderr",
     "output_type": "stream",
     "text": [
      "C:\\Users\\tejag\\anaconda3\\lib\\site-packages\\sklearn\\linear_model\\_coordinate_descent.py:647: ConvergenceWarning: Objective did not converge. You might want to increase the number of iterations, check the scale of the features or consider increasing regularisation. Duality gap: 2.013e+10, tolerance: 1.117e+08\n",
      "  model = cd_fast.enet_coordinate_descent(\n",
      "C:\\Users\\tejag\\anaconda3\\lib\\site-packages\\sklearn\\linear_model\\_coordinate_descent.py:647: ConvergenceWarning: Objective did not converge. You might want to increase the number of iterations, check the scale of the features or consider increasing regularisation. Duality gap: 1.721e+10, tolerance: 1.091e+08\n",
      "  model = cd_fast.enet_coordinate_descent(\n",
      "C:\\Users\\tejag\\anaconda3\\lib\\site-packages\\sklearn\\linear_model\\_coordinate_descent.py:647: ConvergenceWarning: Objective did not converge. You might want to increase the number of iterations, check the scale of the features or consider increasing regularisation. Duality gap: 1.677e+10, tolerance: 1.092e+08\n",
      "  model = cd_fast.enet_coordinate_descent(\n",
      "C:\\Users\\tejag\\anaconda3\\lib\\site-packages\\sklearn\\linear_model\\_coordinate_descent.py:647: ConvergenceWarning: Objective did not converge. You might want to increase the number of iterations, check the scale of the features or consider increasing regularisation. Duality gap: 1.671e+10, tolerance: 1.096e+08\n",
      "  model = cd_fast.enet_coordinate_descent(\n",
      "C:\\Users\\tejag\\anaconda3\\lib\\site-packages\\sklearn\\linear_model\\_coordinate_descent.py:647: ConvergenceWarning: Objective did not converge. You might want to increase the number of iterations, check the scale of the features or consider increasing regularisation. Duality gap: 1.649e+10, tolerance: 1.125e+08\n",
      "  model = cd_fast.enet_coordinate_descent(\n",
      "C:\\Users\\tejag\\anaconda3\\lib\\site-packages\\sklearn\\linear_model\\_coordinate_descent.py:647: ConvergenceWarning: Objective did not converge. You might want to increase the number of iterations, check the scale of the features or consider increasing regularisation. Duality gap: 2.013e+10, tolerance: 1.117e+08\n",
      "  model = cd_fast.enet_coordinate_descent(\n",
      "C:\\Users\\tejag\\anaconda3\\lib\\site-packages\\sklearn\\linear_model\\_coordinate_descent.py:647: ConvergenceWarning: Objective did not converge. You might want to increase the number of iterations, check the scale of the features or consider increasing regularisation. Duality gap: 1.721e+10, tolerance: 1.091e+08\n",
      "  model = cd_fast.enet_coordinate_descent(\n",
      "C:\\Users\\tejag\\anaconda3\\lib\\site-packages\\sklearn\\linear_model\\_coordinate_descent.py:647: ConvergenceWarning: Objective did not converge. You might want to increase the number of iterations, check the scale of the features or consider increasing regularisation. Duality gap: 1.677e+10, tolerance: 1.092e+08\n",
      "  model = cd_fast.enet_coordinate_descent(\n",
      "C:\\Users\\tejag\\anaconda3\\lib\\site-packages\\sklearn\\linear_model\\_coordinate_descent.py:647: ConvergenceWarning: Objective did not converge. You might want to increase the number of iterations, check the scale of the features or consider increasing regularisation. Duality gap: 1.671e+10, tolerance: 1.096e+08\n",
      "  model = cd_fast.enet_coordinate_descent(\n",
      "C:\\Users\\tejag\\anaconda3\\lib\\site-packages\\sklearn\\linear_model\\_coordinate_descent.py:647: ConvergenceWarning: Objective did not converge. You might want to increase the number of iterations, check the scale of the features or consider increasing regularisation. Duality gap: 1.649e+10, tolerance: 1.125e+08\n",
      "  model = cd_fast.enet_coordinate_descent(\n",
      "C:\\Users\\tejag\\anaconda3\\lib\\site-packages\\sklearn\\linear_model\\_coordinate_descent.py:647: ConvergenceWarning: Objective did not converge. You might want to increase the number of iterations, check the scale of the features or consider increasing regularisation. Duality gap: 2.013e+10, tolerance: 1.117e+08\n",
      "  model = cd_fast.enet_coordinate_descent(\n",
      "C:\\Users\\tejag\\anaconda3\\lib\\site-packages\\sklearn\\linear_model\\_coordinate_descent.py:647: ConvergenceWarning: Objective did not converge. You might want to increase the number of iterations, check the scale of the features or consider increasing regularisation. Duality gap: 1.721e+10, tolerance: 1.091e+08\n",
      "  model = cd_fast.enet_coordinate_descent(\n",
      "C:\\Users\\tejag\\anaconda3\\lib\\site-packages\\sklearn\\linear_model\\_coordinate_descent.py:647: ConvergenceWarning: Objective did not converge. You might want to increase the number of iterations, check the scale of the features or consider increasing regularisation. Duality gap: 1.677e+10, tolerance: 1.092e+08\n",
      "  model = cd_fast.enet_coordinate_descent(\n",
      "C:\\Users\\tejag\\anaconda3\\lib\\site-packages\\sklearn\\linear_model\\_coordinate_descent.py:647: ConvergenceWarning: Objective did not converge. You might want to increase the number of iterations, check the scale of the features or consider increasing regularisation. Duality gap: 1.671e+10, tolerance: 1.096e+08\n",
      "  model = cd_fast.enet_coordinate_descent(\n",
      "C:\\Users\\tejag\\anaconda3\\lib\\site-packages\\sklearn\\linear_model\\_coordinate_descent.py:647: ConvergenceWarning: Objective did not converge. You might want to increase the number of iterations, check the scale of the features or consider increasing regularisation. Duality gap: 1.649e+10, tolerance: 1.125e+08\n",
      "  model = cd_fast.enet_coordinate_descent(\n",
      "C:\\Users\\tejag\\anaconda3\\lib\\site-packages\\sklearn\\linear_model\\_coordinate_descent.py:647: ConvergenceWarning: Objective did not converge. You might want to increase the number of iterations, check the scale of the features or consider increasing regularisation. Duality gap: 2.013e+10, tolerance: 1.117e+08\n",
      "  model = cd_fast.enet_coordinate_descent(\n",
      "C:\\Users\\tejag\\anaconda3\\lib\\site-packages\\sklearn\\linear_model\\_coordinate_descent.py:647: ConvergenceWarning: Objective did not converge. You might want to increase the number of iterations, check the scale of the features or consider increasing regularisation. Duality gap: 1.721e+10, tolerance: 1.091e+08\n",
      "  model = cd_fast.enet_coordinate_descent(\n",
      "C:\\Users\\tejag\\anaconda3\\lib\\site-packages\\sklearn\\linear_model\\_coordinate_descent.py:647: ConvergenceWarning: Objective did not converge. You might want to increase the number of iterations, check the scale of the features or consider increasing regularisation. Duality gap: 1.676e+10, tolerance: 1.092e+08\n",
      "  model = cd_fast.enet_coordinate_descent(\n",
      "C:\\Users\\tejag\\anaconda3\\lib\\site-packages\\sklearn\\linear_model\\_coordinate_descent.py:647: ConvergenceWarning: Objective did not converge. You might want to increase the number of iterations, check the scale of the features or consider increasing regularisation. Duality gap: 1.671e+10, tolerance: 1.096e+08\n",
      "  model = cd_fast.enet_coordinate_descent(\n",
      "C:\\Users\\tejag\\anaconda3\\lib\\site-packages\\sklearn\\linear_model\\_coordinate_descent.py:647: ConvergenceWarning: Objective did not converge. You might want to increase the number of iterations, check the scale of the features or consider increasing regularisation. Duality gap: 1.649e+10, tolerance: 1.125e+08\n",
      "  model = cd_fast.enet_coordinate_descent(\n",
      "C:\\Users\\tejag\\anaconda3\\lib\\site-packages\\sklearn\\linear_model\\_coordinate_descent.py:647: ConvergenceWarning: Objective did not converge. You might want to increase the number of iterations, check the scale of the features or consider increasing regularisation. Duality gap: 2.012e+10, tolerance: 1.117e+08\n",
      "  model = cd_fast.enet_coordinate_descent(\n",
      "C:\\Users\\tejag\\anaconda3\\lib\\site-packages\\sklearn\\linear_model\\_coordinate_descent.py:647: ConvergenceWarning: Objective did not converge. You might want to increase the number of iterations, check the scale of the features or consider increasing regularisation. Duality gap: 1.719e+10, tolerance: 1.091e+08\n",
      "  model = cd_fast.enet_coordinate_descent(\n",
      "C:\\Users\\tejag\\anaconda3\\lib\\site-packages\\sklearn\\linear_model\\_coordinate_descent.py:647: ConvergenceWarning: Objective did not converge. You might want to increase the number of iterations, check the scale of the features or consider increasing regularisation. Duality gap: 1.673e+10, tolerance: 1.092e+08\n",
      "  model = cd_fast.enet_coordinate_descent(\n",
      "C:\\Users\\tejag\\anaconda3\\lib\\site-packages\\sklearn\\linear_model\\_coordinate_descent.py:647: ConvergenceWarning: Objective did not converge. You might want to increase the number of iterations, check the scale of the features or consider increasing regularisation. Duality gap: 1.664e+10, tolerance: 1.096e+08\n",
      "  model = cd_fast.enet_coordinate_descent(\n",
      "C:\\Users\\tejag\\anaconda3\\lib\\site-packages\\sklearn\\linear_model\\_coordinate_descent.py:647: ConvergenceWarning: Objective did not converge. You might want to increase the number of iterations, check the scale of the features or consider increasing regularisation. Duality gap: 1.647e+10, tolerance: 1.125e+08\n",
      "  model = cd_fast.enet_coordinate_descent(\n",
      "C:\\Users\\tejag\\anaconda3\\lib\\site-packages\\sklearn\\linear_model\\_coordinate_descent.py:647: ConvergenceWarning: Objective did not converge. You might want to increase the number of iterations, check the scale of the features or consider increasing regularisation. Duality gap: 2.000e+10, tolerance: 1.117e+08\n",
      "  model = cd_fast.enet_coordinate_descent(\n",
      "C:\\Users\\tejag\\anaconda3\\lib\\site-packages\\sklearn\\linear_model\\_coordinate_descent.py:647: ConvergenceWarning: Objective did not converge. You might want to increase the number of iterations, check the scale of the features or consider increasing regularisation. Duality gap: 1.708e+10, tolerance: 1.091e+08\n",
      "  model = cd_fast.enet_coordinate_descent(\n",
      "C:\\Users\\tejag\\anaconda3\\lib\\site-packages\\sklearn\\linear_model\\_coordinate_descent.py:647: ConvergenceWarning: Objective did not converge. You might want to increase the number of iterations, check the scale of the features or consider increasing regularisation. Duality gap: 1.639e+10, tolerance: 1.092e+08\n",
      "  model = cd_fast.enet_coordinate_descent(\n",
      "C:\\Users\\tejag\\anaconda3\\lib\\site-packages\\sklearn\\linear_model\\_coordinate_descent.py:647: ConvergenceWarning: Objective did not converge. You might want to increase the number of iterations, check the scale of the features or consider increasing regularisation. Duality gap: 1.595e+10, tolerance: 1.096e+08\n",
      "  model = cd_fast.enet_coordinate_descent(\n",
      "C:\\Users\\tejag\\anaconda3\\lib\\site-packages\\sklearn\\linear_model\\_coordinate_descent.py:647: ConvergenceWarning: Objective did not converge. You might want to increase the number of iterations, check the scale of the features or consider increasing regularisation. Duality gap: 1.627e+10, tolerance: 1.125e+08\n",
      "  model = cd_fast.enet_coordinate_descent(\n",
      "C:\\Users\\tejag\\anaconda3\\lib\\site-packages\\sklearn\\linear_model\\_coordinate_descent.py:647: ConvergenceWarning: Objective did not converge. You might want to increase the number of iterations, check the scale of the features or consider increasing regularisation. Duality gap: 6.844e+09, tolerance: 1.117e+08\n",
      "  model = cd_fast.enet_coordinate_descent(\n",
      "C:\\Users\\tejag\\anaconda3\\lib\\site-packages\\sklearn\\linear_model\\_coordinate_descent.py:647: ConvergenceWarning: Objective did not converge. You might want to increase the number of iterations, check the scale of the features or consider increasing regularisation. Duality gap: 8.148e+09, tolerance: 1.091e+08\n",
      "  model = cd_fast.enet_coordinate_descent(\n",
      "C:\\Users\\tejag\\anaconda3\\lib\\site-packages\\sklearn\\linear_model\\_coordinate_descent.py:647: ConvergenceWarning: Objective did not converge. You might want to increase the number of iterations, check the scale of the features or consider increasing regularisation. Duality gap: 4.251e+09, tolerance: 1.092e+08\n",
      "  model = cd_fast.enet_coordinate_descent(\n",
      "C:\\Users\\tejag\\anaconda3\\lib\\site-packages\\sklearn\\linear_model\\_coordinate_descent.py:647: ConvergenceWarning: Objective did not converge. You might want to increase the number of iterations, check the scale of the features or consider increasing regularisation. Duality gap: 2.300e+09, tolerance: 1.096e+08\n",
      "  model = cd_fast.enet_coordinate_descent(\n",
      "C:\\Users\\tejag\\anaconda3\\lib\\site-packages\\sklearn\\linear_model\\_coordinate_descent.py:647: ConvergenceWarning: Objective did not converge. You might want to increase the number of iterations, check the scale of the features or consider increasing regularisation. Duality gap: 5.278e+09, tolerance: 1.125e+08\n",
      "  model = cd_fast.enet_coordinate_descent(\n",
      "C:\\Users\\tejag\\anaconda3\\lib\\site-packages\\sklearn\\linear_model\\_coordinate_descent.py:647: ConvergenceWarning: Objective did not converge. You might want to increase the number of iterations, check the scale of the features or consider increasing regularisation. Duality gap: 1.262e+09, tolerance: 1.117e+08\n",
      "  model = cd_fast.enet_coordinate_descent(\n",
      "C:\\Users\\tejag\\anaconda3\\lib\\site-packages\\sklearn\\linear_model\\_coordinate_descent.py:647: ConvergenceWarning: Objective did not converge. You might want to increase the number of iterations, check the scale of the features or consider increasing regularisation. Duality gap: 7.293e+08, tolerance: 1.091e+08\n",
      "  model = cd_fast.enet_coordinate_descent(\n",
      "C:\\Users\\tejag\\anaconda3\\lib\\site-packages\\sklearn\\linear_model\\_coordinate_descent.py:647: ConvergenceWarning: Objective did not converge. You might want to increase the number of iterations, check the scale of the features or consider increasing regularisation. Duality gap: 9.642e+08, tolerance: 1.092e+08\n",
      "  model = cd_fast.enet_coordinate_descent(\n",
      "C:\\Users\\tejag\\anaconda3\\lib\\site-packages\\sklearn\\linear_model\\_coordinate_descent.py:647: ConvergenceWarning: Objective did not converge. You might want to increase the number of iterations, check the scale of the features or consider increasing regularisation. Duality gap: 9.138e+08, tolerance: 1.096e+08\n",
      "  model = cd_fast.enet_coordinate_descent(\n",
      "C:\\Users\\tejag\\anaconda3\\lib\\site-packages\\sklearn\\linear_model\\_coordinate_descent.py:647: ConvergenceWarning: Objective did not converge. You might want to increase the number of iterations, check the scale of the features or consider increasing regularisation. Duality gap: 8.149e+08, tolerance: 1.125e+08\n",
      "  model = cd_fast.enet_coordinate_descent(\n",
      "C:\\Users\\tejag\\anaconda3\\lib\\site-packages\\sklearn\\linear_model\\_coordinate_descent.py:647: ConvergenceWarning: Objective did not converge. You might want to increase the number of iterations, check the scale of the features or consider increasing regularisation. Duality gap: 7.782e+08, tolerance: 1.117e+08\n",
      "  model = cd_fast.enet_coordinate_descent(\n",
      "C:\\Users\\tejag\\anaconda3\\lib\\site-packages\\sklearn\\linear_model\\_coordinate_descent.py:647: ConvergenceWarning: Objective did not converge. You might want to increase the number of iterations, check the scale of the features or consider increasing regularisation. Duality gap: 3.362e+08, tolerance: 1.096e+08\n",
      "  model = cd_fast.enet_coordinate_descent(\n",
      "C:\\Users\\tejag\\anaconda3\\lib\\site-packages\\sklearn\\linear_model\\_coordinate_descent.py:647: ConvergenceWarning: Objective did not converge. You might want to increase the number of iterations, check the scale of the features or consider increasing regularisation. Duality gap: 1.586e+08, tolerance: 1.125e+08\n",
      "  model = cd_fast.enet_coordinate_descent(\n",
      "C:\\Users\\tejag\\anaconda3\\lib\\site-packages\\sklearn\\linear_model\\_coordinate_descent.py:647: ConvergenceWarning: Objective did not converge. You might want to increase the number of iterations, check the scale of the features or consider increasing regularisation. Duality gap: 1.394e+08, tolerance: 1.091e+08\n",
      "  model = cd_fast.enet_coordinate_descent(\n",
      "C:\\Users\\tejag\\anaconda3\\lib\\site-packages\\sklearn\\linear_model\\_coordinate_descent.py:647: ConvergenceWarning: Objective did not converge. You might want to increase the number of iterations, check the scale of the features or consider increasing regularisation. Duality gap: 1.681e+08, tolerance: 1.096e+08\n",
      "  model = cd_fast.enet_coordinate_descent(\n"
     ]
    }
   ],
   "source": [
    "# Lasso regression model\n",
    "lasso = Lasso()\n",
    "\n",
    "# Using GridSearchCV to find the optimal alpha\n",
    "lasso_regressor = GridSearchCV(lasso, parameters, scoring='neg_mean_squared_error', cv=5)\n",
    "lasso_regressor.fit(X_train_scaled, y_train)\n",
    "\n",
    "# Best parameter and score\n",
    "lasso_best_params = lasso_regressor.best_params_\n",
    "lasso_best_score = lasso_regressor.best_score_"
   ]
  },
  {
   "cell_type": "markdown",
   "id": "59af238b",
   "metadata": {},
   "source": [
    "# Model Evaluation"
   ]
  },
  {
   "cell_type": "code",
   "execution_count": 56,
   "id": "5d42a003",
   "metadata": {},
   "outputs": [],
   "source": [
    "from sklearn.metrics import r2_score, mean_squared_error\n",
    "\n",
    "# Predicting and evaluating Ridge\n",
    "ridge_pred = ridge_regressor.predict(X_test_scaled)\n",
    "ridge_r2 = r2_score(y_test, ridge_pred)\n",
    "ridge_mse = mean_squared_error(y_test, ridge_pred)\n",
    "\n",
    "# Predicting and evaluating Lasso\n",
    "lasso_pred = lasso_regressor.predict(X_test_scaled)\n",
    "lasso_r2 = r2_score(y_test, lasso_pred)\n",
    "lasso_mse = mean_squared_error(y_test, lasso_pred)"
   ]
  },
  {
   "cell_type": "code",
   "execution_count": 57,
   "id": "87517f25",
   "metadata": {},
   "outputs": [
    {
     "name": "stdout",
     "output_type": "stream",
     "text": [
      "Ridge Regression\n",
      "Best Alpha: {'alpha': 20}\n",
      "R2 Score: 0.8873948490792368\n",
      "MSE: 318462687.95008975\n",
      "\n",
      "Lasso Regression\n",
      "Best Alpha: {'alpha': 20}\n",
      "R2 Score: 0.8831357473885779\n",
      "MSE: 330508007.0280281\n"
     ]
    }
   ],
   "source": [
    "print(\"Ridge Regression\")\n",
    "print(\"Best Alpha:\", ridge_best_params)\n",
    "print(\"R2 Score:\", ridge_r2)\n",
    "print(\"MSE:\", ridge_mse)\n",
    "\n",
    "print(\"\\nLasso Regression\")\n",
    "print(\"Best Alpha:\", lasso_best_params)\n",
    "print(\"R2 Score:\", lasso_r2)\n",
    "print(\"MSE:\", lasso_mse)"
   ]
  },
  {
   "cell_type": "markdown",
   "id": "4f664f73",
   "metadata": {},
   "source": [
    "# model looks decent"
   ]
  },
  {
   "cell_type": "markdown",
   "id": "c9306001",
   "metadata": {},
   "source": [
    "# Question 1"
   ]
  },
  {
   "cell_type": "code",
   "execution_count": 58,
   "id": "0ec7ced1",
   "metadata": {},
   "outputs": [
    {
     "data": {
      "text/plain": [
       "(GrLivArea      9351.028355\n",
       " OverallQual    6567.082052\n",
       " 2ndFlrSF       6158.695984\n",
       " GarageArea     5728.794263\n",
       " BsmtQual_Gd    5500.555231\n",
       " dtype: float64,\n",
       " GrLivArea         16990.029317\n",
       " 2ndFlrSF          11625.916448\n",
       " KitchenQual_TA     9697.625582\n",
       " KitchenQual_Gd     9381.694186\n",
       " BsmtFinSF1         7442.625400\n",
       " dtype: float64)"
      ]
     },
     "execution_count": 58,
     "metadata": {},
     "output_type": "execute_result"
    }
   ],
   "source": [
    "# Doubling the alpha for Ridge and Lasso\n",
    "new_alpha = 40\n",
    "\n",
    "# Fitting Ridge with the new alpha\n",
    "new_ridge = Ridge(alpha=new_alpha)\n",
    "new_ridge.fit(X_train_scaled, y_train)\n",
    "\n",
    "# Fitting Lasso with the new alpha\n",
    "new_lasso = Lasso(alpha=new_alpha)\n",
    "new_lasso.fit(X_train_scaled, y_train)\n",
    "\n",
    "# Extracting the most important features for Ridge\n",
    "ridge_coefficients = pd.Series(new_ridge.coef_, index=X.columns)\n",
    "ridge_important = ridge_coefficients.abs().sort_values(ascending=False).head()\n",
    "\n",
    "# Extracting the most important features for Lasso\n",
    "lasso_coefficients = pd.Series(new_lasso.coef_, index=X.columns)\n",
    "lasso_important = lasso_coefficients[lasso_coefficients != 0].abs().sort_values(ascending=False).head()\n",
    "\n",
    "ridge_important, lasso_important"
   ]
  },
  {
   "cell_type": "markdown",
   "id": "e41704f6",
   "metadata": {},
   "source": [
    "# Question2"
   ]
  },
  {
   "cell_type": "code",
   "execution_count": 59,
   "id": "58d1364d",
   "metadata": {},
   "outputs": [
    {
     "data": {
      "text/plain": [
       "Lasso(alpha=20)"
      ]
     },
     "execution_count": 59,
     "metadata": {},
     "output_type": "execute_result"
    }
   ],
   "source": [
    "# Ridge Regression with optimal alpha\n",
    "optimal_ridge = Ridge(alpha=20)\n",
    "optimal_ridge.fit(X_train_scaled, y_train)\n",
    "# Lasso Regression with optimal alpha\n",
    "optimal_lasso = Lasso(alpha=20)\n",
    "optimal_lasso.fit(X_train_scaled, y_train)"
   ]
  },
  {
   "cell_type": "code",
   "execution_count": 60,
   "id": "69724495",
   "metadata": {},
   "outputs": [
    {
     "name": "stdout",
     "output_type": "stream",
     "text": [
      "Ridge Regression Performance:\n",
      "R2 Score: 0.8873948490792368\n",
      "MSE: 318462687.95008975\n",
      "\n",
      "Lasso Regression Performance:\n",
      "R2 Score: 0.8831357473885779\n",
      "MSE: 330508007.0280281\n"
     ]
    }
   ],
   "source": [
    "from sklearn.metrics import r2_score, mean_squared_error\n",
    "\n",
    "# Predictions\n",
    "ridge_predictions = optimal_ridge.predict(X_test_scaled)\n",
    "lasso_predictions = optimal_lasso.predict(X_test_scaled)\n",
    "\n",
    "# Evaluating Ridge Regression\n",
    "ridge_r2 = r2_score(y_test, ridge_predictions)\n",
    "ridge_mse = mean_squared_error(y_test, ridge_predictions)\n",
    "\n",
    "# Evaluating Lasso Regression\n",
    "lasso_r2 = r2_score(y_test, lasso_predictions)\n",
    "lasso_mse = mean_squared_error(y_test, lasso_predictions)\n",
    "\n",
    "# Print the performance\n",
    "print(\"Ridge Regression Performance:\")\n",
    "print(\"R2 Score:\", ridge_r2)\n",
    "print(\"MSE:\", ridge_mse)\n",
    "\n",
    "print(\"\\nLasso Regression Performance:\")\n",
    "print(\"R2 Score:\", lasso_r2)\n",
    "print(\"MSE:\", lasso_mse)\n"
   ]
  },
  {
   "cell_type": "markdown",
   "id": "ec6f48af",
   "metadata": {},
   "source": [
    "# Question3"
   ]
  },
  {
   "cell_type": "code",
   "execution_count": 61,
   "id": "d6b33058",
   "metadata": {},
   "outputs": [],
   "source": [
    "X_train_df = pd.DataFrame(X_train_scaled, columns=X_train.columns)\n",
    "X_test_df = pd.DataFrame(X_test_scaled, columns=X_test.columns)\n",
    "\n",
    "# Now, drop the top 5 predictors from these DataFrames\n",
    "X_train_reduced = X_train_df.drop(columns=top_5_predictors, axis=1)\n",
    "X_test_reduced = X_test_df.drop(columns=top_5_predictors, axis=1)"
   ]
  },
  {
   "cell_type": "code",
   "execution_count": 62,
   "id": "fc8e9dd3",
   "metadata": {},
   "outputs": [
    {
     "data": {
      "text/plain": [
       "Lasso(alpha=20)"
      ]
     },
     "execution_count": 62,
     "metadata": {},
     "output_type": "execute_result"
    }
   ],
   "source": [
    "new_lasso = Lasso(alpha=20)\n",
    "new_lasso.fit(X_train_reduced, y_train)"
   ]
  },
  {
   "cell_type": "code",
   "execution_count": 63,
   "id": "20dc4d20",
   "metadata": {},
   "outputs": [
    {
     "name": "stdout",
     "output_type": "stream",
     "text": [
      "The five most important predictor variables now are: Index(['BsmtQual_Gd', 'HouseStyle_1Story', 'GarageArea', 'BsmtQual_TA',\n",
      "       'TotalBsmtSF'],\n",
      "      dtype='object')\n"
     ]
    }
   ],
   "source": [
    "# Extract the coefficients of the new Lasso model\n",
    "new_lasso_coefficients = pd.Series(new_lasso.coef_, index=X_train_reduced.columns)\n",
    "\n",
    "# Identify the top 5 predictors from the new model\n",
    "new_top_5_predictors = new_lasso_coefficients.abs().sort_values(ascending=False).head(5).index\n",
    "\n",
    "# Print the new top 5 predictors\n",
    "print(\"The five most important predictor variables now are:\", new_top_5_predictors)\n"
   ]
  },
  {
   "cell_type": "code",
   "execution_count": null,
   "id": "4ca827d3",
   "metadata": {},
   "outputs": [],
   "source": []
  }
 ],
 "metadata": {
  "kernelspec": {
   "display_name": "Python 3 (ipykernel)",
   "language": "python",
   "name": "python3"
  },
  "language_info": {
   "codemirror_mode": {
    "name": "ipython",
    "version": 3
   },
   "file_extension": ".py",
   "mimetype": "text/x-python",
   "name": "python",
   "nbconvert_exporter": "python",
   "pygments_lexer": "ipython3",
   "version": "3.9.12"
  }
 },
 "nbformat": 4,
 "nbformat_minor": 5
}
